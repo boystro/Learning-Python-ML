{
 "cells": [
  {
   "cell_type": "markdown",
   "id": "b63173ab",
   "metadata": {},
   "source": [
    "# Practice\n",
    "\n",
    "### Use CSV - 006.practice.csv\n",
    "\n",
    "##### Predict the following\n",
    "\n",
    "> Price of mercedez benz that is 4 yr old with mileage 45000\n",
    "\n",
    "> Price of BMW X5 that is 7 yr old with mileage 86000\n",
    "\n",
    "> Score/Accuracy of Model"
   ]
  },
  {
   "cell_type": "code",
   "execution_count": 1,
   "id": "ab6f7039",
   "metadata": {},
   "outputs": [],
   "source": [
    "predictions = {\n",
    "    'Car Model': ['Mercedez Benz C class', 'BMW X5'],\n",
    "    'Mileage': [45000, 86000],\n",
    "    'Age': [4, 7],\n",
    "}"
   ]
  },
  {
   "cell_type": "code",
   "execution_count": 2,
   "id": "6cf2bdd3",
   "metadata": {},
   "outputs": [],
   "source": [
    "import pandas as pd\n",
    "from sklearn.linear_model import LinearRegression\n",
    "from sklearn.preprocessing import LabelEncoder, OneHotEncoder\n",
    "from sklearn.compose import ColumnTransformer"
   ]
  },
  {
   "cell_type": "code",
   "execution_count": 3,
   "id": "1a16f385",
   "metadata": {},
   "outputs": [
    {
     "data": {
      "text/plain": [
       "array([[1.0, 0.0, 69000, 6],\n",
       "       [1.0, 0.0, 35000, 3],\n",
       "       [1.0, 0.0, 57000, 5],\n",
       "       [1.0, 0.0, 22500, 2],\n",
       "       [1.0, 0.0, 46000, 4],\n",
       "       [0.0, 0.0, 59000, 5],\n",
       "       [0.0, 0.0, 52000, 5],\n",
       "       [0.0, 0.0, 72000, 6],\n",
       "       [0.0, 0.0, 91000, 8],\n",
       "       [0.0, 1.0, 67000, 6],\n",
       "       [0.0, 1.0, 83000, 7],\n",
       "       [0.0, 1.0, 79000, 7],\n",
       "       [0.0, 1.0, 59000, 5]], dtype=object)"
      ]
     },
     "execution_count": 3,
     "metadata": {},
     "output_type": "execute_result"
    }
   ],
   "source": [
    "# Loading the dataframe\n",
    "df = pd.read_csv('006.practice.csv')\n",
    "params = df[['Car Model', 'Mileage', 'Age(yrs)']].values\n",
    "price = df[['Sell Price($)']]\n",
    "\n",
    "# One Hot Encoding\n",
    "ct = ColumnTransformer(\n",
    "        [('one_hot_encoder', OneHotEncoder(categories='auto'), [0])],\n",
    "        remainder='passthrough'\n",
    "    )\n",
    "\n",
    "params = ct.fit_transform(params)\n",
    "params = params[:, 1:]\n",
    "params"
   ]
  },
  {
   "cell_type": "code",
   "execution_count": 4,
   "id": "d7c61263",
   "metadata": {},
   "outputs": [
    {
     "data": {
      "text/plain": [
       "LinearRegression()"
      ]
     },
     "execution_count": 4,
     "metadata": {},
     "output_type": "execute_result"
    }
   ],
   "source": [
    "# Model Training\n",
    "model = LinearRegression()\n",
    "model.fit(params, price)"
   ]
  },
  {
   "cell_type": "code",
   "execution_count": 9,
   "id": "613e9f36",
   "metadata": {},
   "outputs": [
    {
     "name": "stdout",
     "output_type": "stream",
     "text": [
      "Prediction 1 = [36991.31721062]\n",
      "Prediction 2 = [11080.74313219]\n",
      "Accuracy = 0.9417050937281083\n"
     ]
    }
   ],
   "source": [
    "# Predicts and Score\n",
    "predict_df = pd.DataFrame(predictions)\n",
    "predict_df = ct.fit_transform(predict_df)\n",
    "predicted = model.predict(predict_df)\n",
    "accuracy = model.score(params, price)\n",
    "print(\"Prediction 1 = {}\".format(predicted[0]))\n",
    "print(\"Prediction 2 = {}\".format(predicted[1]))\n",
    "print(\"Accuracy = {}\".format(accuracy))"
   ]
  },
  {
   "cell_type": "code",
   "execution_count": null,
   "id": "e29ca137",
   "metadata": {},
   "outputs": [],
   "source": []
  }
 ],
 "metadata": {
  "kernelspec": {
   "display_name": "Python 3",
   "language": "python",
   "name": "python3"
  },
  "language_info": {
   "codemirror_mode": {
    "name": "ipython",
    "version": 3
   },
   "file_extension": ".py",
   "mimetype": "text/x-python",
   "name": "python",
   "nbconvert_exporter": "python",
   "pygments_lexer": "ipython3",
   "version": "3.8.8"
  }
 },
 "nbformat": 4,
 "nbformat_minor": 5
}
