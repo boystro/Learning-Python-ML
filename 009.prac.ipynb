{
 "cells": [
  {
   "cell_type": "markdown",
   "id": "5090d0e7",
   "metadata": {},
   "source": [
    "# Machine Learning\n",
    "\n",
    "### Practice, Decision Tree"
   ]
  },
  {
   "cell_type": "code",
   "execution_count": 1,
   "id": "8cdb6b91",
   "metadata": {},
   "outputs": [],
   "source": [
    "import pandas as pd\n",
    "import numpy as np\n",
    "from sklearn.tree import DecisionTreeClassifier\n",
    "from sklearn.model_selection import train_test_split\n",
    "from sklearn.preprocessing import LabelEncoder"
   ]
  },
  {
   "cell_type": "code",
   "execution_count": 2,
   "id": "498d0936",
   "metadata": {},
   "outputs": [],
   "source": [
    "# Removing an indexing warning\n",
    "pd.options.mode.chained_assignment = None\n",
    "\n",
    "# Loading Dataset\n",
    "df = pd.read_csv('009.prac.csv')\n",
    "\n",
    "# Resolving NaN issues\n",
    "df.Age.fillna(value=df.Age.mean(), inplace=True)\n",
    "\n",
    "# Required fields\n",
    "X = df[['Pclass', 'Sex', 'Age', 'Fare']]\n",
    "y = df[['Survived']]"
   ]
  },
  {
   "cell_type": "code",
   "execution_count": 3,
   "id": "f4d7e043",
   "metadata": {},
   "outputs": [],
   "source": [
    "# Encoding the 'Sex' field\n",
    "le = LabelEncoder()\n",
    "X['Sex_n'] = le.fit_transform(X['Sex'])\n",
    "X.drop(['Sex'], axis='columns', inplace=True)"
   ]
  },
  {
   "cell_type": "code",
   "execution_count": 4,
   "id": "b58a0bef",
   "metadata": {},
   "outputs": [],
   "source": [
    "# Splitting Data set for training and testing\n",
    "X_train, X_test, y_train, y_test = train_test_split(X, y, test_size=.15)"
   ]
  },
  {
   "cell_type": "code",
   "execution_count": 6,
   "id": "8d4faf32",
   "metadata": {},
   "outputs": [
    {
     "data": {
      "text/plain": [
       "DecisionTreeClassifier()"
      ]
     },
     "execution_count": 6,
     "metadata": {},
     "output_type": "execute_result"
    }
   ],
   "source": [
    "model = DecisionTreeClassifier()\n",
    "model.fit(X_train, y_train)"
   ]
  },
  {
   "cell_type": "code",
   "execution_count": 7,
   "id": "91de9911",
   "metadata": {},
   "outputs": [
    {
     "data": {
      "text/plain": [
       "0.8283582089552238"
      ]
     },
     "execution_count": 7,
     "metadata": {},
     "output_type": "execute_result"
    }
   ],
   "source": [
    "model.score(X_test, y_test)"
   ]
  },
  {
   "cell_type": "code",
   "execution_count": null,
   "id": "c86356c5",
   "metadata": {},
   "outputs": [],
   "source": []
  }
 ],
 "metadata": {
  "kernelspec": {
   "display_name": "Python 3",
   "language": "python",
   "name": "python3"
  },
  "language_info": {
   "codemirror_mode": {
    "name": "ipython",
    "version": 3
   },
   "file_extension": ".py",
   "mimetype": "text/x-python",
   "name": "python",
   "nbconvert_exporter": "python",
   "pygments_lexer": "ipython3",
   "version": "3.8.8"
  }
 },
 "nbformat": 4,
 "nbformat_minor": 5
}
