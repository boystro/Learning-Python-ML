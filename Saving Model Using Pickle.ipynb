{
 "cells": [
  {
   "cell_type": "markdown",
   "id": "2a44f474",
   "metadata": {},
   "source": [
    "# Machine Learning\n",
    "\n",
    "## Saving a Model"
   ]
  },
  {
   "cell_type": "code",
   "execution_count": 10,
   "id": "0831db80",
   "metadata": {},
   "outputs": [],
   "source": [
    "import pandas as pd\n",
    "import numpy as np\n",
    "from sklearn import linear_model\n",
    "\n",
    "import pickle\n",
    "import joblib"
   ]
  },
  {
   "cell_type": "code",
   "execution_count": 4,
   "id": "ddc4ee35",
   "metadata": {},
   "outputs": [
    {
     "data": {
      "text/plain": [
       "LinearRegression()"
      ]
     },
     "execution_count": 4,
     "metadata": {},
     "output_type": "execute_result"
    }
   ],
   "source": [
    "homeprice = {\n",
    "    'area' : [2600, 3000, 3200, 3600, 4000],\n",
    "    'price' : [550000, 565000, 610000, 680000, 725000],\n",
    "}\n",
    "df = pd.DataFrame(homeprice)\n",
    "model = linear_model.LinearRegression()\n",
    "model.fit(df[['area']], df.price)"
   ]
  },
  {
   "cell_type": "markdown",
   "id": "07958d94",
   "metadata": {},
   "source": [
    "##### Saving model using pickle"
   ]
  },
  {
   "cell_type": "code",
   "execution_count": 5,
   "id": "4538b328",
   "metadata": {},
   "outputs": [],
   "source": [
    "with open('model_pickle_005', 'wb') as f:\n",
    "    pickle.dump(model, f)"
   ]
  },
  {
   "cell_type": "code",
   "execution_count": 6,
   "id": "01512770",
   "metadata": {},
   "outputs": [],
   "source": [
    "with open('model_pickle_005', 'rb') as f:\n",
    "    load_model = pickle.load(f)"
   ]
  },
  {
   "cell_type": "code",
   "execution_count": 8,
   "id": "3e779a31",
   "metadata": {},
   "outputs": [
    {
     "data": {
      "text/plain": [
       "array([859554.79452055])"
      ]
     },
     "execution_count": 8,
     "metadata": {},
     "output_type": "execute_result"
    }
   ],
   "source": [
    "load_model.predict([[5000]])"
   ]
  },
  {
   "cell_type": "markdown",
   "id": "1e49bdf7",
   "metadata": {},
   "source": [
    "##### Saving model using joblib\n",
    "(Faster when there are large numpy arrays)"
   ]
  },
  {
   "cell_type": "code",
   "execution_count": 11,
   "id": "895e1ac0",
   "metadata": {},
   "outputs": [
    {
     "data": {
      "text/plain": [
       "['model_joblib_005']"
      ]
     },
     "execution_count": 11,
     "metadata": {},
     "output_type": "execute_result"
    }
   ],
   "source": [
    "joblib.dump(model, 'model_joblib_005')"
   ]
  },
  {
   "cell_type": "code",
   "execution_count": 12,
   "id": "767cf9b5",
   "metadata": {},
   "outputs": [],
   "source": [
    "load_model_joblib = joblib.load('model_joblib_005')"
   ]
  },
  {
   "cell_type": "code",
   "execution_count": 14,
   "id": "b59174d7",
   "metadata": {},
   "outputs": [
    {
     "data": {
      "text/plain": [
       "array([859554.79452055])"
      ]
     },
     "execution_count": 14,
     "metadata": {},
     "output_type": "execute_result"
    }
   ],
   "source": [
    "load_model_joblib.predict([[5000]])"
   ]
  },
  {
   "cell_type": "code",
   "execution_count": null,
   "id": "338735cc",
   "metadata": {},
   "outputs": [],
   "source": []
  }
 ],
 "metadata": {
  "kernelspec": {
   "display_name": "Python 3",
   "language": "python",
   "name": "python3"
  },
  "language_info": {
   "codemirror_mode": {
    "name": "ipython",
    "version": 3
   },
   "file_extension": ".py",
   "mimetype": "text/x-python",
   "name": "python",
   "nbconvert_exporter": "python",
   "pygments_lexer": "ipython3",
   "version": "3.8.8"
  }
 },
 "nbformat": 4,
 "nbformat_minor": 5
}
