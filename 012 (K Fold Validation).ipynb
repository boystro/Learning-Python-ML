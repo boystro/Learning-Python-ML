{
 "cells": [
  {
   "cell_type": "markdown",
   "id": "51e572a8",
   "metadata": {},
   "source": [
    "# Machine Learning\n",
    "\n",
    "### K Fold Validation"
   ]
  },
  {
   "cell_type": "code",
   "execution_count": 1,
   "id": "934b818b",
   "metadata": {},
   "outputs": [],
   "source": [
    "from sklearn.linear_model import LogisticRegression\n",
    "from sklearn.svm import SVC\n",
    "from sklearn.ensemble import RandomForestClassifier\n",
    "from sklearn.datasets import load_digits\n",
    "from sklearn.model_selection import StratifiedKFold\n",
    "import numpy as np\n",
    "\n",
    "# Loading digit array and targets\n",
    "X = load_digits().data\n",
    "y = load_digits().target"
   ]
  },
  {
   "cell_type": "code",
   "execution_count": 2,
   "id": "a641f7b6",
   "metadata": {},
   "outputs": [],
   "source": [
    "# Function which takes model and datasets and returns model score\n",
    "def get_score(model, X_train, X_test, y_train, y_test):\n",
    "    model.fit(X_train, y_train)\n",
    "    return model.score(X_test, y_test)"
   ]
  },
  {
   "cell_type": "code",
   "execution_count": 3,
   "id": "07bc512e",
   "metadata": {},
   "outputs": [],
   "source": [
    "# k-folds create multiple datasets for training and testing on models\n",
    "# for us to easily find the best model for a certain dataset\n",
    "folds = StratifiedKFold(n_splits=3)\n",
    "\n",
    "score = {\n",
    "    'Logistic Regression': [],\n",
    "    'Support Vector Classifier': [],\n",
    "    'Random Forest Classifier': [],\n",
    "}\n",
    "\n",
    "for train_index, test_index in folds.split(X, y):\n",
    "    args = X[train_index], X[test_index], y[train_index], y[test_index]\n",
    "    \n",
    "    score['Logistic Regression'].append(get_score(LogisticRegression(solver='newton-cg'), *args))\n",
    "    score['Support Vector Classifier'].append(get_score(SVC(), *args))\n",
    "    score['Random Forest Classifier'].append(get_score(RandomForestClassifier(), *args))"
   ]
  },
  {
   "cell_type": "code",
   "execution_count": 4,
   "id": "e4de5669",
   "metadata": {},
   "outputs": [
    {
     "data": {
      "text/plain": [
       "{'Logistic Regression': [0.9248747913188647,\n",
       "  0.9382303839732888,\n",
       "  0.9232053422370617],\n",
       " 'Support Vector Classifier': [0.9649415692821369,\n",
       "  0.9799666110183639,\n",
       "  0.9649415692821369],\n",
       " 'Random Forest Classifier': [0.9348914858096828,\n",
       "  0.9632721202003339,\n",
       "  0.9265442404006677]}"
      ]
     },
     "execution_count": 4,
     "metadata": {},
     "output_type": "execute_result"
    }
   ],
   "source": [
    "score"
   ]
  },
  {
   "cell_type": "markdown",
   "id": "c49c7b29",
   "metadata": {},
   "source": [
    "### Easier method to do the same"
   ]
  },
  {
   "cell_type": "code",
   "execution_count": 5,
   "id": "55d6c3e3",
   "metadata": {},
   "outputs": [],
   "source": [
    "scores = {\n",
    "    'lr': [],\n",
    "    'svm': [],\n",
    "    'rfc': []\n",
    "}\n",
    "\n",
    "from sklearn.model_selection import cross_val_score\n",
    "scores['lr'].append(cross_val_score(LogisticRegression(solver='newton-cg'), X, y))\n",
    "scores['svm'].append(cross_val_score(SVC(C=100), X, y))\n",
    "scores['rfc'].append(cross_val_score(RandomForestClassifier(n_estimators=500), X, y))"
   ]
  },
  {
   "cell_type": "code",
   "execution_count": 6,
   "id": "c66f544b",
   "metadata": {},
   "outputs": [
    {
     "name": "stdout",
     "output_type": "stream",
     "text": [
      "lr : 0.9143160012380068\n",
      "svm : 0.9738502011761063\n",
      "rfc : 0.9393624264933458\n"
     ]
    }
   ],
   "source": [
    "for key in scores:\n",
    "    values = scores[key]\n",
    "    print(f\"{key} : {values[0].mean()}\")"
   ]
  },
  {
   "cell_type": "code",
   "execution_count": null,
   "id": "f2705624",
   "metadata": {},
   "outputs": [],
   "source": []
  }
 ],
 "metadata": {
  "kernelspec": {
   "display_name": "Python 3",
   "language": "python",
   "name": "python3"
  },
  "language_info": {
   "codemirror_mode": {
    "name": "ipython",
    "version": 3
   },
   "file_extension": ".py",
   "mimetype": "text/x-python",
   "name": "python",
   "nbconvert_exporter": "python",
   "pygments_lexer": "ipython3",
   "version": "3.8.8"
  }
 },
 "nbformat": 4,
 "nbformat_minor": 5
}
