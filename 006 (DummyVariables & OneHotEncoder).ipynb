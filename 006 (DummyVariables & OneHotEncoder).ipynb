{
 "cells": [
  {
   "cell_type": "markdown",
   "id": "5e9eb720",
   "metadata": {},
   "source": [
    "# Machine Learning\n",
    "\n",
    "### Dummy Variables & One Hot Encoding"
   ]
  },
  {
   "cell_type": "code",
   "execution_count": 1,
   "id": "193a7585",
   "metadata": {
    "scrolled": true
   },
   "outputs": [],
   "source": [
    "import pandas as pd\n",
    "from sklearn.linear_model import LinearRegression\n",
    "from sklearn.preprocessing import LabelEncoder, OneHotEncoder\n",
    "from sklearn.compose import ColumnTransformer"
   ]
  },
  {
   "cell_type": "code",
   "execution_count": 2,
   "id": "5a939eda",
   "metadata": {},
   "outputs": [
    {
     "name": "stdout",
     "output_type": "stream",
     "text": [
      "    area   price  monroe township  robinsville\n",
      "0   2600  550000                1            0\n",
      "1   3000  565000                1            0\n",
      "2   3200  610000                1            0\n",
      "3   3600  680000                1            0\n",
      "4   4000  725000                1            0\n",
      "5   2600  585000                0            0\n",
      "6   2800  615000                0            0\n",
      "7   3300  650000                0            0\n",
      "8   3600  710000                0            0\n",
      "9   2600  575000                0            1\n",
      "10  2900  600000                0            1\n",
      "11  3100  620000                0            1\n",
      "12  3600  695000                0            1\n"
     ]
    }
   ],
   "source": [
    "df = pd.read_csv('006.csv')\n",
    "\n",
    "# following code gets a dataframe with dummies\n",
    "dummies = pd.get_dummies(df.town)\n",
    "\n",
    "# mergin the two dataframes\n",
    "merged = pd.concat([df, dummies], axis='columns')\n",
    "\n",
    "# Drop one dummy variable column\n",
    "# avoid dummy variable trap\n",
    "final_df = merged.drop(['town', 'west windsor'], axis='columns')\n",
    "\n",
    "print(final_df)"
   ]
  },
  {
   "cell_type": "code",
   "execution_count": 3,
   "id": "1e870d8d",
   "metadata": {},
   "outputs": [
    {
     "data": {
      "text/plain": [
       "LinearRegression()"
      ]
     },
     "execution_count": 3,
     "metadata": {},
     "output_type": "execute_result"
    }
   ],
   "source": [
    "# Training the model using Dummy Variables\n",
    "model = LinearRegression()\n",
    "model.fit(final_df.drop('price', axis='columns'), final_df.price)"
   ]
  },
  {
   "cell_type": "code",
   "execution_count": 4,
   "id": "4278182a",
   "metadata": {},
   "outputs": [
    {
     "name": "stdout",
     "output_type": "stream",
     "text": [
      "Prediction 1 =  [590775.63964739]\n",
      "Prediction 2 =  [681241.66845839]\n",
      "Score =  0.9573929037221873\n"
     ]
    }
   ],
   "source": [
    "# Prediction\n",
    "predict1 = model.predict([[2800, 0,1]])\n",
    "predict2 = model.predict([[3400, 0, 0]])\n",
    "\n",
    "# Model Accuracy\n",
    "model_score = model.score(final_df.drop('price', axis='columns'), final_df.price)\n",
    "\n",
    "print(\"Prediction 1 = \", predict1)\n",
    "print(\"Prediction 2 = \", predict2)\n",
    "print(\"Score = \", model_score)"
   ]
  },
  {
   "cell_type": "markdown",
   "id": "d605aff5",
   "metadata": {},
   "source": [
    "## Using OneHotEncoding and ColumnTransformer\n",
    "\n",
    "#### Must use in case of ML"
   ]
  },
  {
   "cell_type": "code",
   "execution_count": 5,
   "id": "99f4c598",
   "metadata": {},
   "outputs": [
    {
     "name": "stdout",
     "output_type": "stream",
     "text": [
      "    town  area   price\n",
      "0      0  2600  550000\n",
      "1      0  3000  565000\n",
      "2      0  3200  610000\n",
      "3      0  3600  680000\n",
      "4      0  4000  725000\n",
      "5      2  2600  585000\n",
      "6      2  2800  615000\n",
      "7      2  3300  650000\n",
      "8      2  3600  710000\n",
      "9      1  2600  575000\n",
      "10     1  2900  600000\n",
      "11     1  3100  620000\n",
      "12     1  3600  695000\n"
     ]
    }
   ],
   "source": [
    "# One Hot Encoding\n",
    "# It takes values from town and assigns an integer\n",
    "# to same names\n",
    "\n",
    "LE = LabelEncoder()\n",
    "dfle = df\n",
    "dfle.town = LE.fit_transform(dfle.town)\n",
    "print(dfle)"
   ]
  },
  {
   "cell_type": "code",
   "execution_count": 6,
   "id": "74bf7946",
   "metadata": {},
   "outputs": [
    {
     "data": {
      "text/plain": [
       "LinearRegression()"
      ]
     },
     "execution_count": 6,
     "metadata": {},
     "output_type": "execute_result"
    }
   ],
   "source": [
    "# gets the dataframe as a 2D array\n",
    "x = dfle[['town', 'area']].values\n",
    "\n",
    "# Categorieses the variable in the passed indices\n",
    "ohe = OneHotEncoder(categories=[0])\n",
    "ct = ColumnTransformer(\n",
    "    [('one_hot_encoder', OneHotEncoder(categories='auto'), [0])],\n",
    "    remainder='passthrough' \n",
    ")\n",
    "x = ct.fit_transform(x)\n",
    "\n",
    "#  Handling dummy variable trap\n",
    "x = x[:, 1:]\n",
    "\n",
    "# Training the model\n",
    "model.fit(x, dfle.price)"
   ]
  },
  {
   "cell_type": "code",
   "execution_count": 9,
   "id": "49d20070",
   "metadata": {},
   "outputs": [
    {
     "name": "stdout",
     "output_type": "stream",
     "text": [
      "[590775.63964739] [681241.6684584] 0.9573929037221874\n"
     ]
    }
   ],
   "source": [
    "# Tests\n",
    "predict1 = model.predict([[1, 0, 2800]])\n",
    "predict2 = model.predict([[0, 1, 3400]])\n",
    "score = model.score(x, dfle.price)\n",
    "print(predict1, predict2, score)"
   ]
  },
  {
   "cell_type": "code",
   "execution_count": null,
   "id": "a2bb0da5",
   "metadata": {},
   "outputs": [],
   "source": []
  }
 ],
 "metadata": {
  "kernelspec": {
   "display_name": "Python 3",
   "language": "python",
   "name": "python3"
  },
  "language_info": {
   "codemirror_mode": {
    "name": "ipython",
    "version": 3
   },
   "file_extension": ".py",
   "mimetype": "text/x-python",
   "name": "python",
   "nbconvert_exporter": "python",
   "pygments_lexer": "ipython3",
   "version": "3.8.8"
  }
 },
 "nbformat": 4,
 "nbformat_minor": 5
}
